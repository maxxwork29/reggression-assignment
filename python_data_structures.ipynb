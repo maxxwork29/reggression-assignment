{
  "nbformat": 4,
  "nbformat_minor": 0,
  "metadata": {
    "colab": {
      "provenance": []
    },
    "kernelspec": {
      "name": "python3",
      "display_name": "Python 3"
    },
    "language_info": {
      "name": "python"
    }
  },
  "cells": [
    {
      "cell_type": "code",
      "execution_count": null,
      "metadata": {
        "id": "f8YkRlAAAMEU"
      },
      "outputs": [],
      "source": []
    },
    {
      "cell_type": "markdown",
      "source": [
        "1- What are data structures, and why are they important?\n",
        "\n",
        "   -> Data structures are ways of organizing and storing data in a computer so that the data can be accessed and used efficiently. They can be as simple as arrays or as complex as trees and graphs. Data structures combine different types of data (like numbers or characters) into a single format, which helps with operations like searching, sorting, inserting, and deleting data.\n",
        "\n",
        "They are important because:\n",
        "\n",
        "Efficiency: They allow programs to store, retrieve, and manipulate data quickly, which is crucial for performance.\n",
        "\n",
        "Organization: They help keep data organized, making it easier to work with large amounts of information.\n",
        "\n",
        "Problem Solving: Using the right data structure can make solving certain problems much easier and faster.\n",
        "\n",
        "Application: They are used everywhere, like in databases, operating systems, and even in games and websites.\n",
        "\n",
        "So basically, data structures are like different ways to arrange your stuff so you can find and use it fast when you need it."
      ],
      "metadata": {
        "id": "JRTuap0LAZMz"
      }
    },
    {
      "cell_type": "markdown",
      "source": [
        "2- Explain the difference between mutable and immutable data types with examples?\n",
        "  ->  Mutable data types are those whose values can be changed after they are created. Immutable data types are those whose values cannot be changed once they are created; if you try to change them, Python creates a new object instead.\n",
        "\n",
        "Examples of Mutable Data Types:\n",
        "\n",
        "List: You can add, remove, or change elements.\n",
        "\n",
        "\n",
        "my_list = [1, 2, 3]\n",
        "my_list.append(4)      # [1, 2, 3, 4]\n",
        "my_list[0] = 10        # [10, 2, 3, 4]\n",
        "\n",
        "\n",
        "\n",
        "Dictionary: You can change the value for a key or add new key-value pairs.\n",
        "\n",
        "Set: You can add or remove elements.\n",
        "\n",
        "Examples of Immutable Data Types:\n",
        "\n",
        "String: If you try to change a character, it creates a new string.\n",
        "\n",
        "python\n",
        "my_str = \"hello\"\n",
        "my_str = my_str + \" world\"   # \"hello world\" (a new object)\n",
        "Tuple: You can’t change any element after creation.\n",
        "\n",
        "python\n",
        "my_tuple = (1, 2, 3)\n",
        "# my_tuple[0] = 10 # This will cause an error\n",
        "Integer/Float: Changing the value actually creates a new object.\n"
      ],
      "metadata": {
        "id": "QhFKq6XpBWLM"
      }
    },
    {
      "cell_type": "markdown",
      "source": [
        "3- What are the main differences between lists and tuples in Python?\n",
        "\n",
        "     -> So, the main differences between lists and tuples in Python are:\n",
        "\n",
        "Mutability:\n",
        "\n",
        "Lists are mutable, which means you can change, add, or remove items after the list is created.\n",
        "\n",
        "Tuples are immutable, so once they're created, you can't change their elements.\n",
        "\n",
        "Syntax:\n",
        "\n",
        "Lists use square brackets, like [1, 2, 3]\n",
        "\n",
        "Tuples use parentheses, like (1, 2, 3)\n",
        "\n",
        "Performance:\n",
        "\n",
        "Tuples are generally faster than lists when you're just storing data and not changing it.\n",
        "\n",
        "Usage:\n",
        "\n",
        "Use lists when you need to modify the data.\n",
        "\n",
        "Use tuples when you want to make sure the data stays the same (like coordinates or fixed collections).\n"
      ],
      "metadata": {
        "id": "V3evq54fB5PJ"
      }
    },
    {
      "cell_type": "markdown",
      "source": [
        "4-Describe how dictionaries store data?\n",
        "  ->**dictionaries** store data as **key-value pairs**.\n",
        "\n",
        "Here's how it works:\n",
        "\n",
        "* A dictionary looks like this:\n",
        "\n",
        "  ```python\n",
        "  my_dict = {\"name\": \"Alice\", \"age\": 20}\n",
        "  ```\n",
        "\n",
        "* In this example:\n",
        "\n",
        "  * `\"name\"` and `\"age\"` are **keys**\n",
        "  * `\"Alice\"` and `20` are the **values**\n",
        "\n",
        "* Each **key** is unique and is used to access its **value**.\n",
        "\n",
        "* Internally, Python uses a **hash table** to store dictionaries. That means it takes the key, runs it through a **hash function**, and uses the result to figure out where to store the value in memory.\n",
        "\n",
        "* Because of this, **dictionary lookups are super fast** — like constant time `O(1)` on average.\n",
        "\n",
        "So yeah, dictionaries are really good when you need to **quickly find values by a unique key**!\n",
        "\n"
      ],
      "metadata": {
        "id": "uyzHlaubd4Sb"
      }
    },
    {
      "cell_type": "markdown",
      "source": [
        "5-Why might you use a set instead of a list in Python?\n",
        "  -> A **set** instead of a **list** in Python for a few reasons:\n",
        "\n",
        "1. **No Duplicates**:\n",
        "\n",
        "   * Sets **automatically remove duplicates**.\n",
        "     For example:\n",
        "\n",
        "     ```python\n",
        "     my_set = {1, 2, 2, 3}\n",
        "     print(my_set)  # Output: {1, 2, 3}\n",
        "     ```\n",
        "\n",
        "2. **Faster Lookups**:\n",
        "\n",
        "   * Checking if something exists in a set is usually **faster** than in a list, because sets use a **hash table** internally.\n",
        "     So:\n",
        "\n",
        "     ```python\n",
        "     3 in my_set  # way faster than doing it in a big list\n",
        "     ```\n",
        "\n",
        "3. **Set Operations**:\n",
        "\n",
        "   * Sets have cool built-in operations like **union**, **intersection**, and **difference** which are super handy for comparing data.\n",
        "\n",
        "     ```python\n",
        "     set1 = {1, 2, 3}\n",
        "     set2 = {2, 3, 4}\n",
        "     print(set1 & set2)  # Output: {2, 3}\n",
        "     ```\n",
        "\n",
        "But remember:\n",
        "\n",
        "* Sets are **unordered** (so no indexing like `my_set[0]`)\n",
        "* And they only hold **unique, hashable items**\n",
        "\n",
        "So yeah, use a set when you want **unique items** and **fast membership checking**!\n"
      ],
      "metadata": {
        "id": "PcxDGo59eK0v"
      }
    },
    {
      "cell_type": "markdown",
      "source": [
        "\n",
        "\n",
        "6- What is a string in Python, and how is it different from a list?\n",
        "  -> String = text, can't change parts directly\n",
        "\n",
        "List = collection of stuff, and I can change items inside it"
      ],
      "metadata": {
        "id": "at9z3Poqez8y"
      }
    },
    {
      "cell_type": "markdown",
      "source": [],
      "metadata": {
        "id": "e-jEmlHFP_HJ"
      }
    },
    {
      "cell_type": "markdown",
      "source": [
        "7- How do tuples ensure data integrity in Python?\n",
        "\n",
        "  -> **Tuples ensure data integrity in Python primarily through their immutability**. Once a tuple is created, its elements cannot be changed, added to, or removed. This immutability prevents accidental or unauthorized modifications to the data, making tuples ideal for scenarios where maintaining consistent, unaltered data is critical[1][2][4][7].\n",
        "\n",
        "Key ways tuples help ensure data integrity:\n",
        "\n",
        "- **Immutability**: The contents of a tuple cannot be modified after creation. This guarantees that the data remains unchanged throughout the program's execution, reducing the risk of bugs caused by unintended changes.\n",
        "- **Data protection**: Because tuples are immutable, they are often used to store fixed collections of data such as configuration settings, constants, or records that should not change.\n",
        "- **Hashability**: Tuples can be used as keys in dictionaries if all their elements are hashable, which is only possible because they themselves cannot change. This property is essential for maintaining the integrity of keys in mappings.\n",
        "- **Order preservation**: Tuples maintain the order of elements, and this order is guaranteed to remain the same, further ensuring data consistency[3][6].\n",
        "\n",
        "> \"Once created, tuples cannot be modified, which can prevent accidental changes to data. This feature is particularly useful when you want to ensure the integrity of your data.\"\n",
        "\n",
        "In summary, **tuples' immutability is the core feature that ensures data integrity in Python**, making them a reliable choice when you need to guarantee that your data remains unchanged\n"
      ],
      "metadata": {
        "id": "IZ-_VAVnQSRD"
      }
    },
    {
      "cell_type": "markdown",
      "source": [
        "8- What is a hash table, and how does it relate to dictionaries in Python?\n",
        "\n",
        "->A **hash table** is a data structure that maps keys to values using a process called *hashing*. A hash function converts each key into a hash value, which is then used to determine where the corresponding value is stored in an internal array (often called buckets or slots). This allows for very fast data retrieval, insertion, and deletion—typically in constant time on average.\n",
        "\n",
        "In **Python**, the built-in `dict` (dictionary) type is implemented as a hash table. When you use a dictionary, Python:\n",
        "\n",
        "- **Hashes the key** using a hash function.\n",
        "- **Uses the hash value** to find an index in an internal array.\n",
        "- **Stores the key-value pair** at that index.\n",
        "- **Handles collisions** (when two keys hash to the same index) using a method called open addressing with quadratic probing.\n",
        "\n",
        "This means that **Python dictionaries are direct implementations of hash tables** and provide efficient mapping from keys to values\n"
      ],
      "metadata": {
        "id": "Hb8T9FTaQ_fA"
      }
    },
    {
      "cell_type": "markdown",
      "source": [
        "9- Can lists contain different data types in Python?\n",
        "\n",
        "-> **Yes, lists in Python can contain different data types.** Python lists are *heterogeneous*, meaning you can store elements such as integers, strings, floats, booleans, nested lists, dictionaries, and more within the same list"
      ],
      "metadata": {
        "id": "zUWaVUAZRap8"
      }
    },
    {
      "cell_type": "markdown",
      "source": [
        "10- Explain why strings are immutable in Python?\n",
        "\n",
        "-> **Strings are immutable in Python because once created, their contents cannot be changed.** This immutability is intentional and offers several important benefits:\n",
        "\n",
        "- **Avoids accidental modification:** Programmers cannot alter the string contents by mistake, which helps prevent bugs.\n",
        "- **Enables hashing:** Immutable strings have a constant hash value, allowing them to be used as dictionary keys and in sets, which rely on stable hashes for correctness.\n",
        "- **Performance optimizations:** Since strings cannot change, Python can safely share and reuse string objects in memory (string interning), reducing memory usage and speeding up comparisons\n",
        "- **Simplifies implementation:** Immutable strings simplify memory management and internal optimizations, as Python does not need to worry about resizing or altering string buffers.\n",
        "\n",
        "If you want to \"modify\" a string, Python creates a new string object instead of changing the original one, ensuring the original string remains unchanged"
      ],
      "metadata": {
        "id": "B07lWh_-RyZu"
      }
    },
    {
      "cell_type": "markdown",
      "source": [
        "11- What advantages do dictionaries offer over lists for certain tasks?\n",
        "\n",
        "-> **Dictionaries offer several advantages over lists for certain tasks in Python:\n",
        "- **Faster lookups by key:** Dictionaries provide *constant time* average complexity for retrieving values by key, while lists require *linear time*  to search for a value, especially as the dataset grows\n",
        "\n",
        "- **Key-value association:** Dictionaries store data as *key-value pairs*, allowing you to associate meaningful, unique identifiers (keys) with each value. This is more flexible and intuitive than relying on positional indexes in lists, especially when data is naturally organized by unique attributes (e.g., student names, product codes)\n",
        "- **No need for complex indexing:** With dictionaries, you can directly access a value using its key, avoiding the need for parallel lists or complicated indexing schemes that are often required with lists for related data\n",
        "- **Efficient for large datasets:** Dictionaries are particularly efficient for storing and retrieving large amounts of data quickly due to their underlying hash table implementation\n",
        "**Use cases where dictionaries excel:**\n",
        "- When you need to map unique identifiers to values (e.g., usernames to user data).\n",
        "- When fast lookup, insertion, or deletion by key is required.\n",
        "- When data naturally fits a key-value structure, such as configuration settings or database records.\n",
        "\n",
        "In contrast, **lists** are better suited for ordered collections where the sequence of items matters or when you need to perform operations like sorting or sequential processing"
      ],
      "metadata": {
        "id": "BHFDmh7qSNk8"
      }
    },
    {
      "cell_type": "markdown",
      "source": [
        "12- Describe a scenario where using a tuple would be preferable over a list?\n",
        "\n",
        "-> A scenario where using a **tuple** would be preferable over a list is when you need to store a collection of data that should remain **constant and unchangeable throughout the program**. For example, if you want to store a person's **date of birth**, geographic coordinates, or configuration values that should not be modified, a tuple is the ideal choice.\n",
        "\n",
        "**Key reasons for preferring tuples in such scenarios:**\n",
        "\n",
        "- **Immutability:** Tuples cannot be changed after creation, which protects data from accidental modification and makes your code safer.\n",
        "- **Performance:** Tuples are generally **faster and more memory-efficient** than lists, especially when working with large collections or frequent iterations.\n",
        "- **Hashability:** Tuples can be used as keys in dictionaries or elements in sets if all their items are hashable, which is not possible with lists.\n",
        "- **Data Integrity:** Using a tuple signals that the data is fixed and should not be altered, reducing the risk of unexpected bugs.\n",
        "\n",
        "**Example scenario:**  \n",
        "Storing a user's (name, date of birth, country) as a tuple ensures this information cannot be changed\n",
        "\n",
        "In summary, use a tuple when you want to **guarantee the data remains unchanged**, benefit from improved performance, or need to use the collection as a key in a dictionary"
      ],
      "metadata": {
        "id": "sXv0eDKeS53r"
      }
    },
    {
      "cell_type": "markdown",
      "source": [
        "13- How do sets handle duplicate values in Python?\n",
        "\n",
        "\n",
        "->  **Sets in Python automatically eliminate duplicate values.** When you create a set or add elements to it, any duplicates are ignored—only unique values are stored. For example:\n",
        "\n",
        "```python\n",
        "my_set = {\"apple\", \"banana\", \"cherry\", \"apple\"}\n",
        "print(my_set)  # Output: {'apple', 'banana', 'cherry'}\n",
        "```\n",
        "In this example, although `\"apple\"` appears twice in the declaration, it only exists once in the set\n",
        "\n",
        "Additionally, certain values are considered duplicates due to their equivalence in Python, such as `True` and `1`, or `False` and `0`. If both are added to a set, only one will be kept because they are treated as the same value[3].\n",
        "\n",
        "This property makes sets useful for tasks like removing duplicates from lists or other collections."
      ],
      "metadata": {
        "id": "RVqLn3qsTY3M"
      }
    },
    {
      "cell_type": "markdown",
      "source": [
        "14- How does the “in” keyword work differently for lists and dictionaries?\n",
        "\n",
        "\n",
        "-> The **\"in\" keyword** checks for membership, but its behavior differs between lists and dictionaries:\n",
        "\n",
        "- **For lists:**  \n",
        "  The \"in\" keyword checks whether a **value exists as an element** in the list. It sequentially scans the list from start to end, resulting in linear time complexity ($$O(n)$$), especially for large lists.\n",
        "\n",
        "  ```python\n",
        "  numbers = [1, 2, 3]\n",
        "  print(2 in numbers)  # True\n",
        "  ```\n",
        "\n",
        "- **For dictionaries:**  \n",
        "  The \"in\" keyword checks whether a **key exists in the dictionary**, not the value. It leverages the dictionary's hash table, making the lookup very fast—average constant time ($$O(1)$$).\n",
        "\n",
        "  ```python\n",
        "  person = {\"name\": \"Alice\", \"age\": 30}\n",
        "  print(\"name\" in person)  # True\n",
        "  print(30 in person)      # False (checks for key, not value)\n"
      ],
      "metadata": {
        "id": "LyxP5TuET8vF"
      }
    },
    {
      "cell_type": "markdown",
      "source": [
        "15-  Can you modify the elements of a tuple? Explain why or why not?\n",
        "\n",
        "-> **No, you cannot modify the elements of a tuple in Python.** Tuples are **immutable**, which means that once a tuple is created, its elements cannot be changed, added, or removed. Attempting to assign a new value to an element of a tuple will result in a `TypeError`.\n",
        "\n",
        "The immutability of tuples serves important purposes:\n",
        "\n",
        "- It **ensures data integrity** by preventing accidental or intentional modification of the data stored in the tuple.\n",
        "- It allows tuples to be **used as keys in dictionaries** and as elements in sets, since only immutable (and thus hashable) objects can serve this role.\n",
        "- It provides **performance benefits**, as Python can optimize storage and access for immutable objects.\n",
        "\n",
        "If you need to \"modify\" a tuple, you must create a new tuple—either by combining existing tuples or by converting the tuple to a list, making changes, and then converting back to a tuple. However, the original tuple itself remains unchanged."
      ],
      "metadata": {
        "id": "dyMyBZoPUY3V"
      }
    },
    {
      "cell_type": "markdown",
      "source": [
        "16- What is a nested dictionary, and give an example of its use case?\n",
        "\n",
        "->  A **nested dictionary** in Python is a dictionary where the values themselves are dictionaries, allowing you to create hierarchical or multi-level data structures. This structure is useful for representing complex data relationships, such as grouping related information together under a common key.\n",
        "\n",
        "**Example of a nested dictionary:**\n",
        "\n",
        "```python\n",
        "students = {\n",
        "    \"Alice\": {\"age\": 21, \"major\": \"Computer Science\"},\n",
        "    \"Bob\": {\"age\": 20, \"major\": \"Engineering\"},\n",
        "    \"Charlie\": {\"age\": 22, \"major\": \"Mathematics\"}\n",
        "}\n",
        "```\n",
        "In this example, each student’s name is a key in the outer dictionary, and the value is another dictionary containing details about that student (like age and major).  \n",
        "\n",
        "Nested dictionaries are ideal for storing and organizing data with multiple layers of information. For instance, you might use a nested dictionary to manage student records in a university database, where each student has their own set of attributes (age, major, grades, etc.) grouped together under their name or ID[1][3]. This makes data retrieval and management more structured and intuitive.\n"
      ],
      "metadata": {
        "id": "E1mZVcLyUuEW"
      }
    },
    {
      "cell_type": "markdown",
      "source": [
        "17-   Describe the time complexity of accessing elements in a dictionary?\n",
        "\n",
        "-> **Accessing elements in a Python dictionary by key has an average time complexity of O(1)**. This is because dictionaries use a hash table internally, allowing for constant-time lookup: the hash of the key is used to directly find the memory location of the value.\n",
        "\n",
        "However, in rare worst-case scenarios—such as when many keys hash to the same value (hash collisions)—the time complexity can degrade to O(n), where n is the number of items in the dictionary. Despite this, for nearly all practical purposes, dictionary access is considered O(1) on average."
      ],
      "metadata": {
        "id": "rIcF4coSNneM"
      }
    },
    {
      "cell_type": "markdown",
      "source": [
        "18- In what situations are lists preferred over dictionaries?\n",
        "\n",
        "-> **Lists are preferred over dictionaries in Python in the following situations:**\n",
        "\n",
        "- **When order matters:** Lists maintain the order of elements, allowing you to access items by their position (index). This is important for tasks where the sequence of data is significant, such as processing time series, maintaining a queue, or when you need to sort or reverse the collection.\n",
        "\n",
        "- **For sequential or indexed data:** If your data is naturally represented as a sequence (like a list of names, numbers, or objects), and you want to access elements by their position, a list is the best choice.\n",
        "\n",
        "- **Allowing duplicates:** Lists can contain duplicate values, which is useful when you need to store repeated elements, such as a list of votes or scores.\n",
        "\n",
        "- **When memory efficiency is important:** Lists generally use less memory than dictionaries because they only store values and their positions, not key-value pairs.\n",
        "\n",
        "- **For simple collections:** When you just need to group items together without associating them with unique identifiers, lists are simpler and more straightforward to use."
      ],
      "metadata": {
        "id": "xlq8BpevP2U8"
      }
    },
    {
      "cell_type": "markdown",
      "source": [
        "19- Why are dictionaries considered unordered, and how does that affect data retrieval?\n",
        "\n",
        "-> Dictionaries in Python were traditionally considered **unordered collections**, meaning the items had no guaranteed order and could not be accessed by position or index. This affected data retrieval in that you could only access values by their unique keys, not by their position within the dictionary.\n",
        "\n",
        "order in which items are added is preserved and maintained when iterating over the dictionary or displaying its contents. This means that, in modern Python, you can rely on the order of items as they were inserted. Despite this, dictionaries are still accessed by key, not by position or index, and keys remain unique.\n",
        "\n",
        "**How this affects data retrieval:**\n",
        "- You **retrieve values by their keys**, not by position.\n",
        "- In Python 3.6 and earlier, the order of items was unpredictable.\n",
        "- In Python 3.7 and later, the order is preserved, but you still cannot use integer indices to access elements as you would with a list.\n",
        "- **You cannot refer to an item by index**; you must use the key.\n",
        "\n",
        "In summary, while dictionaries are now ordered by insertion (from Python 3.7 onward), you still access data by key, and not by position, which distinguishes them from lists and affects how you retrieve and work with their data.\n"
      ],
      "metadata": {
        "id": "jl5xMbOwQKKQ"
      }
    },
    {
      "cell_type": "markdown",
      "source": [
        "20-Explain the difference between a list and a dictionary in terms of data retrieval.\n",
        "\n",
        "->  The main difference between a **list** and a **dictionary** in terms of data retrieval lies in *how* you access their elements:\n",
        "\n",
        "- **Lists**:  \n",
        "  Elements are accessed by their **numeric index** (position in the sequence), starting from 0. For example, `my_list[2]` retrieves the third item in the list. This is ideal for ordered, sequential data where position matter.\n",
        "\n",
        "- **Dictionaries**:  \n",
        "  Elements are accessed by their **unique keys** (which can be of any immutable type, such as strings, numbers, or tuples). For example, `my_dict['name']` retrieves the value associated with the key `'name'`. This approach is best for situations where you need to quickly look up values based on specific identifiers rather than their position.\n",
        "  "
      ],
      "metadata": {
        "id": "31tXKvfmQrn7"
      }
    },
    {
      "cell_type": "markdown",
      "source": [
        "1- Write a code to create a string with your name and print it.\n"
      ],
      "metadata": {
        "id": "vLJeDwVCRIVa"
      }
    },
    {
      "cell_type": "code",
      "source": [
        "name = \"mayank rathore\"\n",
        "print(name)\n"
      ],
      "metadata": {
        "colab": {
          "base_uri": "https://localhost:8080/"
        },
        "id": "cVpGMN4vRd-n",
        "outputId": "d4c47a56-6779-4554-8252-b98fcbd41931"
      },
      "execution_count": 2,
      "outputs": [
        {
          "output_type": "stream",
          "name": "stdout",
          "text": [
            "mayank rathore\n"
          ]
        }
      ]
    },
    {
      "cell_type": "markdown",
      "source": [
        "2- Write a code to find the length of the string \"Hello World\"."
      ],
      "metadata": {
        "id": "rce7ODRsRvYl"
      }
    },
    {
      "cell_type": "code",
      "source": [
        "text = \"Hello World\"\n",
        "length = len(text)\n",
        "print(length)\n",
        ""
      ],
      "metadata": {
        "colab": {
          "base_uri": "https://localhost:8080/"
        },
        "id": "aygRp9H8R0ln",
        "outputId": "eb1282d6-dfe1-4064-f7b0-a21a1c320f8e"
      },
      "execution_count": 3,
      "outputs": [
        {
          "output_type": "stream",
          "name": "stdout",
          "text": [
            "11\n"
          ]
        }
      ]
    },
    {
      "cell_type": "markdown",
      "source": [
        "3- Write a code to slice the first 3 characters from the string \"Python Programming\"."
      ],
      "metadata": {
        "id": "KF5cDMsgSAOe"
      }
    },
    {
      "cell_type": "code",
      "source": [
        "text = \"Python Programming\"\n",
        "first_three = text[:3]\n",
        "print(first_three)\n"
      ],
      "metadata": {
        "colab": {
          "base_uri": "https://localhost:8080/"
        },
        "id": "Sn4zDfVdSGZt",
        "outputId": "472c7498-ba8b-4657-fa83-288ee3fcead4"
      },
      "execution_count": 4,
      "outputs": [
        {
          "output_type": "stream",
          "name": "stdout",
          "text": [
            "Pyt\n"
          ]
        }
      ]
    },
    {
      "cell_type": "markdown",
      "source": [
        "4- Write a code to convert the string \"hello\" to uppercase"
      ],
      "metadata": {
        "id": "VjsGrQTlWT54"
      }
    },
    {
      "cell_type": "code",
      "source": [
        "text = \"hello\"\n",
        "uppercase_text = text.upper()\n",
        "print(uppercase_text)\n"
      ],
      "metadata": {
        "colab": {
          "base_uri": "https://localhost:8080/"
        },
        "id": "8vtYkCreWWXO",
        "outputId": "c024c68b-81d9-4f2e-a843-baa7f6e88f0c"
      },
      "execution_count": 5,
      "outputs": [
        {
          "output_type": "stream",
          "name": "stdout",
          "text": [
            "HELLO\n"
          ]
        }
      ]
    },
    {
      "cell_type": "markdown",
      "source": [
        "5-  Write a code to replace the word \"apple\" with \"orange\" in the string \"I like apple\"."
      ],
      "metadata": {
        "id": "WDqaUzULWW7u"
      }
    },
    {
      "cell_type": "code",
      "source": [
        "text = \"I like apple\"\n",
        "new_text = text.replace(\"apple\", \"orange\")\n",
        "print(new_text)\n"
      ],
      "metadata": {
        "colab": {
          "base_uri": "https://localhost:8080/"
        },
        "id": "6EKkCDZNWx_9",
        "outputId": "9fe7aaa2-758c-4acf-e966-109fcd5e5663"
      },
      "execution_count": 6,
      "outputs": [
        {
          "output_type": "stream",
          "name": "stdout",
          "text": [
            "I like orange\n"
          ]
        }
      ]
    },
    {
      "cell_type": "markdown",
      "source": [
        "6- Write a code to create a list with numbers 1 to 5 and print it."
      ],
      "metadata": {
        "id": "HuqcKOplWuyt"
      }
    },
    {
      "cell_type": "code",
      "source": [
        "numbers = [1, 2, 3, 4, 5]\n",
        "print(numbers)\n"
      ],
      "metadata": {
        "colab": {
          "base_uri": "https://localhost:8080/"
        },
        "id": "GRv0M69cXG3b",
        "outputId": "d176b9ff-d2ce-43cd-dcf7-298c0d421d17"
      },
      "execution_count": 7,
      "outputs": [
        {
          "output_type": "stream",
          "name": "stdout",
          "text": [
            "[1, 2, 3, 4, 5]\n"
          ]
        }
      ]
    },
    {
      "cell_type": "markdown",
      "source": [
        "7- Write a code to append the number 10 to the list [1, 2, 3, 4]."
      ],
      "metadata": {
        "id": "yc02Fi43Wvek"
      }
    },
    {
      "cell_type": "code",
      "source": [
        "numbers = [1, 2, 3, 4]\n",
        "numbers.append(10)\n",
        "print(numbers)\n"
      ],
      "metadata": {
        "colab": {
          "base_uri": "https://localhost:8080/"
        },
        "id": "s-XVouLXXU4R",
        "outputId": "60ec304a-dd60-4544-aec0-a0df3180c772"
      },
      "execution_count": 8,
      "outputs": [
        {
          "output_type": "stream",
          "name": "stdout",
          "text": [
            "[1, 2, 3, 4, 10]\n"
          ]
        }
      ]
    },
    {
      "cell_type": "markdown",
      "source": [
        "8- Write a code to remove the number 3 from the list [1, 2, 3, 4, 5]."
      ],
      "metadata": {
        "id": "uZt77aXEXWaM"
      }
    },
    {
      "cell_type": "code",
      "source": [
        "numbers = [1, 2, 3, 4, 5]\n",
        "numbers.remove(3)\n",
        "print(numbers)\n"
      ],
      "metadata": {
        "colab": {
          "base_uri": "https://localhost:8080/"
        },
        "id": "K67E4ddPXo77",
        "outputId": "93c3f7d8-d2ed-4c7d-bd29-4fc168edfd0a"
      },
      "execution_count": 9,
      "outputs": [
        {
          "output_type": "stream",
          "name": "stdout",
          "text": [
            "[1, 2, 4, 5]\n"
          ]
        }
      ]
    },
    {
      "cell_type": "markdown",
      "source": [
        "9- Write a code to access the second element in the list ['a', 'b', 'c', 'd']."
      ],
      "metadata": {
        "id": "fIlgUu4tXXky"
      }
    },
    {
      "cell_type": "code",
      "source": [
        "letters = ['a', 'b', 'c', 'd']\n",
        "second_element = letters[1]\n",
        "print(second_element)\n"
      ],
      "metadata": {
        "colab": {
          "base_uri": "https://localhost:8080/"
        },
        "id": "-540DD_dYFx8",
        "outputId": "f51ab262-e071-4dac-d3e2-5a388306f1be"
      },
      "execution_count": 12,
      "outputs": [
        {
          "output_type": "stream",
          "name": "stdout",
          "text": [
            "b\n"
          ]
        }
      ]
    },
    {
      "cell_type": "markdown",
      "source": [
        "10- Write a code to reverse the list [10, 20, 30, 40, 50]."
      ],
      "metadata": {
        "id": "wfH_1-beYMfp"
      }
    },
    {
      "cell_type": "code",
      "source": [
        "numbers = [10, 20, 30, 40, 50]\n",
        "reversed_numbers = numbers[::-1]\n",
        "print(reversed_numbers)\n"
      ],
      "metadata": {
        "colab": {
          "base_uri": "https://localhost:8080/"
        },
        "id": "gz1rBtv5YSys",
        "outputId": "aeb940bd-6aab-41f5-e715-cabbaa75f589"
      },
      "execution_count": 13,
      "outputs": [
        {
          "output_type": "stream",
          "name": "stdout",
          "text": [
            "[50, 40, 30, 20, 10]\n"
          ]
        }
      ]
    },
    {
      "cell_type": "code",
      "source": [],
      "metadata": {
        "id": "uUBI9p50YX7X"
      },
      "execution_count": null,
      "outputs": []
    }
  ]
}